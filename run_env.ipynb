{
 "cells": [
  {
   "cell_type": "code",
   "execution_count": 1,
   "metadata": {},
   "outputs": [],
   "source": [
    "import os\n",
    "import numpy as np\n",
    "import simpler_env\n",
    "from simpler_env.utils.env.observation_utils import get_image_from_maniskill2_obs_dict\n",
    "import mediapy\n",
    "\n",
    "\n",
    "RT_1_CHECKPOINTS = {\n",
    "    \"rt_1_x\": \"rt_1_x_tf_trained_for_002272480_step\",\n",
    "    \"rt_1_400k\": \"rt_1_tf_trained_for_000400120\",\n",
    "    \"rt_1_58k\": \"rt_1_tf_trained_for_000058240\",\n",
    "    \"rt_1_1k\": \"rt_1_tf_trained_for_000001120\",\n",
    "}\n",
    "\n",
    "\n",
    "def get_rt_1_checkpoint(name, ckpt_dir=\"./checkpoints\"):\n",
    "  assert name in RT_1_CHECKPOINTS, name\n",
    "  ckpt_name = RT_1_CHECKPOINTS[name]\n",
    "  ckpt_path = os.path.join(ckpt_dir, ckpt_name)\n",
    "  if not os.path.exists(ckpt_path):\n",
    "    if name == \"rt_1_x\":\n",
    "      !gsutil -m cp -r gs://gdm-robotics-open-x-embodiment/open_x_embodiment_and_rt_x_oss/{ckpt_name}.zip {ckpt_dir}\n",
    "      !unzip {ckpt_dir}/{ckpt_name}.zip -d {ckpt_dir}\n",
    "    else:\n",
    "      !gsutil -m cp -r gs://gdm-robotics-open-x-embodiment/open_x_embodiment_and_rt_x_oss/{ckpt_name} {ckpt_dir}\n",
    "  return ckpt_path"
   ]
  },
  {
   "cell_type": "code",
   "execution_count": 2,
   "metadata": {},
   "outputs": [
    {
     "name": "stderr",
     "output_type": "stream",
     "text": [
      "[2025-03-10 14:02:38.634] [svulkan2] [error] GLFW error: X11: The DISPLAY environment variable is missing\n",
      "[2025-03-10 14:02:38.634] [svulkan2] [warning] Continue without GLFW.\n"
     ]
    },
    {
     "name": "stdout",
     "output_type": "stream",
     "text": [
      "Reset info {'scene_name': 'google_pick_coke_can_1_v4', 'scene_offset': None, 'scene_pose': None, 'scene_table_height': 0.87, 'urdf_version': 'recolor_tabletop_visual_matching_1', 'rgb_overlay_path': '/home/eharrison/simpler_env/ManiSkill2_real2sim/data/real_inpainting/google_coke_can_real_eval_1.png', 'rgb_overlay_cameras': ['overhead_camera'], 'rgb_overlay_mode': 'background', 'disable_bad_material': False, 'model_id': 'opened_coke_can', 'model_scale': 1.0, 'distractor_model_ids': None, 'distractor_model_scales': None, 'obj_init_pose_wrt_robot_base': Pose([0.587925, -0.0238302, 0.840576], [0.707052, -0.0081018, -0.01162, -0.70702]), 'orientation': 'laid_vertically'}\n",
      "Instruction pick coke can\n"
     ]
    },
    {
     "name": "stderr",
     "output_type": "stream",
     "text": [
      "/home/eharrison/anaconda3/envs/simpler_env/lib/python3.10/site-packages/gymnasium/core.py:311: UserWarning: \u001b[33mWARN: env.get_language_instruction to get variables from other wrappers is deprecated and will be removed in v1.0, to get this variable you can do `env.unwrapped.get_language_instruction` for environment variables or `env.get_wrapper_attr('get_language_instruction')` that will search the reminding wrappers.\u001b[0m\n",
      "  logger.warn(\n"
     ]
    }
   ],
   "source": [
    "task_name = \"google_robot_pick_coke_can\"  # @param [\"google_robot_pick_coke_can\", \"google_robot_move_near\", \"google_robot_open_drawer\", \"google_robot_close_drawer\", \"widowx_spoon_on_towel\", \"widowx_carrot_on_plate\", \"widowx_stack_cube\", \"widowx_put_eggplant_in_basket\"]\n",
    "\n",
    "if 'env' in locals():\n",
    "  print(\"Closing existing env\")\n",
    "  env.close()\n",
    "  del env\n",
    "env = simpler_env.make(task_name)\n",
    "\n",
    "# Note: we turned off the denoiser as the colab kernel will crash if it's turned on\n",
    "# To use the denoiser, please git clone our SIMPLER environments\n",
    "# and perform evaluations locally.\n",
    "# sapien.render_config.rt_use_denoiser = False\n",
    "\n",
    "obs, reset_info = env.reset()\n",
    "instruction = env.get_language_instruction()\n",
    "print(\"Reset info\", reset_info)\n",
    "print(\"Instruction\", instruction)\n",
    "\n",
    "if \"google\" in task_name:\n",
    "  policy_setup = \"google_robot\"\n",
    "else:\n",
    "  policy_setup = \"widowx_bridge\""
   ]
  },
  {
   "cell_type": "code",
   "execution_count": 3,
   "metadata": {},
   "outputs": [
    {
     "name": "stderr",
     "output_type": "stream",
     "text": [
      "2025-03-10 14:02:42.830534: E external/local_xla/xla/stream_executor/cuda/cuda_dnn.cc:9261] Unable to register cuDNN factory: Attempting to register factory for plugin cuDNN when one has already been registered\n",
      "2025-03-10 14:02:42.830554: E external/local_xla/xla/stream_executor/cuda/cuda_fft.cc:607] Unable to register cuFFT factory: Attempting to register factory for plugin cuFFT when one has already been registered\n",
      "2025-03-10 14:02:42.831536: E external/local_xla/xla/stream_executor/cuda/cuda_blas.cc:1515] Unable to register cuBLAS factory: Attempting to register factory for plugin cuBLAS when one has already been registered\n",
      "2025-03-10 14:02:42.838570: I tensorflow/core/platform/cpu_feature_guard.cc:182] This TensorFlow binary is optimized to use available CPU instructions in performance-critical operations.\n",
      "To enable the following instructions: AVX2 FMA, in other operations, rebuild TensorFlow with the appropriate compiler flags.\n",
      "2025-03-10 14:02:43.498789: W tensorflow/compiler/tf2tensorrt/utils/py_utils.cc:38] TF-TRT Warning: Could not find TensorRT\n",
      "2025-03-10 14:02:45.824557: I external/local_xla/xla/stream_executor/cuda/cuda_executor.cc:901] successful NUMA node read from SysFS had negative value (-1), but there must be at least one NUMA node, so returning NUMA node zero. See more at https://github.com/torvalds/linux/blob/v6.0/Documentation/ABI/testing/sysfs-bus-pci#L344-L355\n",
      "2025-03-10 14:02:45.988609: I external/local_xla/xla/stream_executor/cuda/cuda_executor.cc:901] successful NUMA node read from SysFS had negative value (-1), but there must be at least one NUMA node, so returning NUMA node zero. See more at https://github.com/torvalds/linux/blob/v6.0/Documentation/ABI/testing/sysfs-bus-pci#L344-L355\n",
      "2025-03-10 14:02:45.989080: I external/local_xla/xla/stream_executor/cuda/cuda_executor.cc:901] successful NUMA node read from SysFS had negative value (-1), but there must be at least one NUMA node, so returning NUMA node zero. See more at https://github.com/torvalds/linux/blob/v6.0/Documentation/ABI/testing/sysfs-bus-pci#L344-L355\n",
      "2025-03-10 14:02:45.991782: I external/local_xla/xla/stream_executor/cuda/cuda_executor.cc:901] successful NUMA node read from SysFS had negative value (-1), but there must be at least one NUMA node, so returning NUMA node zero. See more at https://github.com/torvalds/linux/blob/v6.0/Documentation/ABI/testing/sysfs-bus-pci#L344-L355\n",
      "2025-03-10 14:02:45.992189: I external/local_xla/xla/stream_executor/cuda/cuda_executor.cc:901] successful NUMA node read from SysFS had negative value (-1), but there must be at least one NUMA node, so returning NUMA node zero. See more at https://github.com/torvalds/linux/blob/v6.0/Documentation/ABI/testing/sysfs-bus-pci#L344-L355\n",
      "2025-03-10 14:02:45.992544: I external/local_xla/xla/stream_executor/cuda/cuda_executor.cc:901] successful NUMA node read from SysFS had negative value (-1), but there must be at least one NUMA node, so returning NUMA node zero. See more at https://github.com/torvalds/linux/blob/v6.0/Documentation/ABI/testing/sysfs-bus-pci#L344-L355\n"
     ]
    },
    {
     "ename": "InternalError",
     "evalue": "cudaSetDevice() on GPU:0 failed. Status: out of memory",
     "output_type": "error",
     "traceback": [
      "\u001b[0;31m---------------------------------------------------------------------------\u001b[0m",
      "\u001b[0;31mInternalError\u001b[0m                             Traceback (most recent call last)",
      "Cell \u001b[0;32mIn[3], line 8\u001b[0m\n\u001b[1;32m      5\u001b[0m   \u001b[38;5;28;01mfrom\u001b[39;00m \u001b[38;5;21;01msimpler_env\u001b[39;00m\u001b[38;5;21;01m.\u001b[39;00m\u001b[38;5;21;01mpolicies\u001b[39;00m\u001b[38;5;21;01m.\u001b[39;00m\u001b[38;5;21;01mrt1\u001b[39;00m\u001b[38;5;21;01m.\u001b[39;00m\u001b[38;5;21;01mrt1_model\u001b[39;00m \u001b[38;5;28;01mimport\u001b[39;00m RT1Inference\n\u001b[1;32m      7\u001b[0m   ckpt_path \u001b[38;5;241m=\u001b[39m get_rt_1_checkpoint(model_name)\n\u001b[0;32m----> 8\u001b[0m   model \u001b[38;5;241m=\u001b[39m \u001b[43mRT1Inference\u001b[49m\u001b[43m(\u001b[49m\u001b[43msaved_model_path\u001b[49m\u001b[38;5;241;43m=\u001b[39;49m\u001b[43mckpt_path\u001b[49m\u001b[43m,\u001b[49m\u001b[43m \u001b[49m\u001b[43mpolicy_setup\u001b[49m\u001b[38;5;241;43m=\u001b[39;49m\u001b[43mpolicy_setup\u001b[49m\u001b[43m)\u001b[49m\n\u001b[1;32m      9\u001b[0m \u001b[38;5;28;01melif\u001b[39;00m \u001b[38;5;124m\"\u001b[39m\u001b[38;5;124mocto\u001b[39m\u001b[38;5;124m\"\u001b[39m \u001b[38;5;129;01min\u001b[39;00m model_name:\n\u001b[1;32m     10\u001b[0m   \u001b[38;5;28;01mfrom\u001b[39;00m \u001b[38;5;21;01msimpler_env\u001b[39;00m\u001b[38;5;21;01m.\u001b[39;00m\u001b[38;5;21;01mpolicies\u001b[39;00m\u001b[38;5;21;01m.\u001b[39;00m\u001b[38;5;21;01mocto\u001b[39;00m\u001b[38;5;21;01m.\u001b[39;00m\u001b[38;5;21;01mocto_model\u001b[39;00m \u001b[38;5;28;01mimport\u001b[39;00m OctoInference\n",
      "File \u001b[0;32m~/simpler_env/simpler_env/policies/rt1/rt1_model.py:24\u001b[0m, in \u001b[0;36mRT1Inference.__init__\u001b[0;34m(self, saved_model_path, lang_embed_model_path, image_width, image_height, action_scale, policy_setup)\u001b[0m\n\u001b[1;32m     15\u001b[0m \u001b[38;5;28;01mdef\u001b[39;00m \u001b[38;5;21m__init__\u001b[39m(\n\u001b[1;32m     16\u001b[0m     \u001b[38;5;28mself\u001b[39m,\n\u001b[1;32m     17\u001b[0m     saved_model_path: \u001b[38;5;28mstr\u001b[39m \u001b[38;5;241m=\u001b[39m \u001b[38;5;124m\"\u001b[39m\u001b[38;5;124mrt_1_x_tf_trained_for_002272480_step\u001b[39m\u001b[38;5;124m\"\u001b[39m,\n\u001b[0;32m   (...)\u001b[0m\n\u001b[1;32m     22\u001b[0m     policy_setup: \u001b[38;5;28mstr\u001b[39m \u001b[38;5;241m=\u001b[39m \u001b[38;5;124m\"\u001b[39m\u001b[38;5;124mgoogle_robot\u001b[39m\u001b[38;5;124m\"\u001b[39m,\n\u001b[1;32m     23\u001b[0m ) \u001b[38;5;241m-\u001b[39m\u001b[38;5;241m>\u001b[39m \u001b[38;5;28;01mNone\u001b[39;00m:\n\u001b[0;32m---> 24\u001b[0m     \u001b[38;5;28mself\u001b[39m\u001b[38;5;241m.\u001b[39mlang_embed_model \u001b[38;5;241m=\u001b[39m \u001b[43mhub\u001b[49m\u001b[38;5;241;43m.\u001b[39;49m\u001b[43mload\u001b[49m\u001b[43m(\u001b[49m\u001b[43mlang_embed_model_path\u001b[49m\u001b[43m)\u001b[49m\n\u001b[1;32m     25\u001b[0m     \u001b[38;5;28mself\u001b[39m\u001b[38;5;241m.\u001b[39mtfa_policy \u001b[38;5;241m=\u001b[39m py_tf_eager_policy\u001b[38;5;241m.\u001b[39mSavedModelPyTFEagerPolicy(\n\u001b[1;32m     26\u001b[0m         model_path\u001b[38;5;241m=\u001b[39msaved_model_path,\n\u001b[1;32m     27\u001b[0m         load_specs_from_pbtxt\u001b[38;5;241m=\u001b[39m\u001b[38;5;28;01mTrue\u001b[39;00m,\n\u001b[1;32m     28\u001b[0m         use_tf_function\u001b[38;5;241m=\u001b[39m\u001b[38;5;28;01mTrue\u001b[39;00m,\n\u001b[1;32m     29\u001b[0m     )\n\u001b[1;32m     30\u001b[0m     \u001b[38;5;28mself\u001b[39m\u001b[38;5;241m.\u001b[39mimage_width \u001b[38;5;241m=\u001b[39m image_width\n",
      "File \u001b[0;32m~/anaconda3/envs/simpler_env/lib/python3.10/site-packages/tensorflow_hub/module_v2.py:126\u001b[0m, in \u001b[0;36mload\u001b[0;34m(handle, tags, options)\u001b[0m\n\u001b[1;32m    123\u001b[0m   obj \u001b[38;5;241m=\u001b[39m tf\u001b[38;5;241m.\u001b[39mcompat\u001b[38;5;241m.\u001b[39mv1\u001b[38;5;241m.\u001b[39msaved_model\u001b[38;5;241m.\u001b[39mload_v2(\n\u001b[1;32m    124\u001b[0m       module_path, tags\u001b[38;5;241m=\u001b[39mtags, options\u001b[38;5;241m=\u001b[39moptions)\n\u001b[1;32m    125\u001b[0m \u001b[38;5;28;01melse\u001b[39;00m:\n\u001b[0;32m--> 126\u001b[0m   obj \u001b[38;5;241m=\u001b[39m \u001b[43mtf\u001b[49m\u001b[38;5;241;43m.\u001b[39;49m\u001b[43mcompat\u001b[49m\u001b[38;5;241;43m.\u001b[39;49m\u001b[43mv1\u001b[49m\u001b[38;5;241;43m.\u001b[39;49m\u001b[43msaved_model\u001b[49m\u001b[38;5;241;43m.\u001b[39;49m\u001b[43mload_v2\u001b[49m\u001b[43m(\u001b[49m\u001b[43mmodule_path\u001b[49m\u001b[43m,\u001b[49m\u001b[43m \u001b[49m\u001b[43mtags\u001b[49m\u001b[38;5;241;43m=\u001b[39;49m\u001b[43mtags\u001b[49m\u001b[43m)\u001b[49m\n\u001b[1;32m    127\u001b[0m obj\u001b[38;5;241m.\u001b[39m_is_hub_module_v1 \u001b[38;5;241m=\u001b[39m is_hub_module_v1  \u001b[38;5;66;03m# pylint: disable=protected-access\u001b[39;00m\n\u001b[1;32m    128\u001b[0m \u001b[38;5;28;01mreturn\u001b[39;00m obj\n",
      "File \u001b[0;32m~/anaconda3/envs/simpler_env/lib/python3.10/site-packages/tensorflow/python/saved_model/load.py:912\u001b[0m, in \u001b[0;36mload\u001b[0;34m(export_dir, tags, options)\u001b[0m\n\u001b[1;32m    910\u001b[0m \u001b[38;5;28;01mif\u001b[39;00m \u001b[38;5;28misinstance\u001b[39m(export_dir, os\u001b[38;5;241m.\u001b[39mPathLike):\n\u001b[1;32m    911\u001b[0m   export_dir \u001b[38;5;241m=\u001b[39m os\u001b[38;5;241m.\u001b[39mfspath(export_dir)\n\u001b[0;32m--> 912\u001b[0m result \u001b[38;5;241m=\u001b[39m \u001b[43mload_partial\u001b[49m\u001b[43m(\u001b[49m\u001b[43mexport_dir\u001b[49m\u001b[43m,\u001b[49m\u001b[43m \u001b[49m\u001b[38;5;28;43;01mNone\u001b[39;49;00m\u001b[43m,\u001b[49m\u001b[43m \u001b[49m\u001b[43mtags\u001b[49m\u001b[43m,\u001b[49m\u001b[43m \u001b[49m\u001b[43moptions\u001b[49m\u001b[43m)\u001b[49m[\u001b[38;5;124m\"\u001b[39m\u001b[38;5;124mroot\u001b[39m\u001b[38;5;124m\"\u001b[39m]\n\u001b[1;32m    913\u001b[0m \u001b[38;5;28;01mreturn\u001b[39;00m result\n",
      "File \u001b[0;32m~/anaconda3/envs/simpler_env/lib/python3.10/site-packages/tensorflow/python/saved_model/load.py:1043\u001b[0m, in \u001b[0;36mload_partial\u001b[0;34m(export_dir, filters, tags, options)\u001b[0m\n\u001b[1;32m   1041\u001b[0m \u001b[38;5;28;01mwith\u001b[39;00m ops\u001b[38;5;241m.\u001b[39minit_scope():\n\u001b[1;32m   1042\u001b[0m   \u001b[38;5;28;01mtry\u001b[39;00m:\n\u001b[0;32m-> 1043\u001b[0m     loader \u001b[38;5;241m=\u001b[39m \u001b[43mLoader\u001b[49m\u001b[43m(\u001b[49m\u001b[43mobject_graph_proto\u001b[49m\u001b[43m,\u001b[49m\u001b[43m \u001b[49m\u001b[43msaved_model_proto\u001b[49m\u001b[43m,\u001b[49m\u001b[43m \u001b[49m\u001b[43mexport_dir\u001b[49m\u001b[43m,\u001b[49m\n\u001b[1;32m   1044\u001b[0m \u001b[43m                    \u001b[49m\u001b[43mckpt_options\u001b[49m\u001b[43m,\u001b[49m\u001b[43m \u001b[49m\u001b[43moptions\u001b[49m\u001b[43m,\u001b[49m\u001b[43m \u001b[49m\u001b[43mfilters\u001b[49m\u001b[43m)\u001b[49m\n\u001b[1;32m   1045\u001b[0m   \u001b[38;5;28;01mexcept\u001b[39;00m errors\u001b[38;5;241m.\u001b[39mNotFoundError \u001b[38;5;28;01mas\u001b[39;00m err:\n\u001b[1;32m   1046\u001b[0m     \u001b[38;5;28;01mraise\u001b[39;00m \u001b[38;5;167;01mFileNotFoundError\u001b[39;00m(\n\u001b[1;32m   1047\u001b[0m         \u001b[38;5;28mstr\u001b[39m(err) \u001b[38;5;241m+\u001b[39m \u001b[38;5;124m\"\u001b[39m\u001b[38;5;130;01m\\n\u001b[39;00m\u001b[38;5;124m You may be trying to load on a different device \u001b[39m\u001b[38;5;124m\"\u001b[39m\n\u001b[1;32m   1048\u001b[0m         \u001b[38;5;124m\"\u001b[39m\u001b[38;5;124mfrom the computational device. Consider setting the \u001b[39m\u001b[38;5;124m\"\u001b[39m\n\u001b[1;32m   1049\u001b[0m         \u001b[38;5;124m\"\u001b[39m\u001b[38;5;124m`experimental_io_device` option in `tf.saved_model.LoadOptions` \u001b[39m\u001b[38;5;124m\"\u001b[39m\n\u001b[1;32m   1050\u001b[0m         \u001b[38;5;124m\"\u001b[39m\u001b[38;5;124mto the io_device such as \u001b[39m\u001b[38;5;124m'\u001b[39m\u001b[38;5;124m/job:localhost\u001b[39m\u001b[38;5;124m'\u001b[39m\u001b[38;5;124m.\u001b[39m\u001b[38;5;124m\"\u001b[39m)\n",
      "File \u001b[0;32m~/anaconda3/envs/simpler_env/lib/python3.10/site-packages/tensorflow/python/saved_model/load.py:161\u001b[0m, in \u001b[0;36mLoader.__init__\u001b[0;34m(self, object_graph_proto, saved_model_proto, export_dir, ckpt_options, save_options, filters)\u001b[0m\n\u001b[1;32m    158\u001b[0m \u001b[38;5;28mself\u001b[39m\u001b[38;5;241m.\u001b[39m_proto \u001b[38;5;241m=\u001b[39m object_graph_proto\n\u001b[1;32m    159\u001b[0m \u001b[38;5;28mself\u001b[39m\u001b[38;5;241m.\u001b[39m_export_dir \u001b[38;5;241m=\u001b[39m export_dir\n\u001b[1;32m    160\u001b[0m \u001b[38;5;28mself\u001b[39m\u001b[38;5;241m.\u001b[39m_concrete_functions \u001b[38;5;241m=\u001b[39m (\n\u001b[0;32m--> 161\u001b[0m     \u001b[43mfunction_deserialization\u001b[49m\u001b[38;5;241;43m.\u001b[39;49m\u001b[43mload_function_def_library\u001b[49m\u001b[43m(\u001b[49m\n\u001b[1;32m    162\u001b[0m \u001b[43m        \u001b[49m\u001b[43mlibrary\u001b[49m\u001b[38;5;241;43m=\u001b[39;49m\u001b[43mmeta_graph\u001b[49m\u001b[38;5;241;43m.\u001b[39;49m\u001b[43mgraph_def\u001b[49m\u001b[38;5;241;43m.\u001b[39;49m\u001b[43mlibrary\u001b[49m\u001b[43m,\u001b[49m\n\u001b[1;32m    163\u001b[0m \u001b[43m        \u001b[49m\u001b[43msaved_object_graph\u001b[49m\u001b[38;5;241;43m=\u001b[39;49m\u001b[38;5;28;43mself\u001b[39;49m\u001b[38;5;241;43m.\u001b[39;49m\u001b[43m_proto\u001b[49m\u001b[43m,\u001b[49m\n\u001b[1;32m    164\u001b[0m \u001b[43m        \u001b[49m\u001b[43mwrapper_function\u001b[49m\u001b[38;5;241;43m=\u001b[39;49m\u001b[43m_WrapperFunction\u001b[49m\u001b[43m)\u001b[49m)\n\u001b[1;32m    165\u001b[0m \u001b[38;5;66;03m# Store a set of all concrete functions that have been set up with\u001b[39;00m\n\u001b[1;32m    166\u001b[0m \u001b[38;5;66;03m# captures.\u001b[39;00m\n\u001b[1;32m    167\u001b[0m \u001b[38;5;28mself\u001b[39m\u001b[38;5;241m.\u001b[39m_restored_concrete_functions \u001b[38;5;241m=\u001b[39m \u001b[38;5;28mset\u001b[39m()\n",
      "File \u001b[0;32m~/anaconda3/envs/simpler_env/lib/python3.10/site-packages/tensorflow/python/saved_model/function_deserialization.py:482\u001b[0m, in \u001b[0;36mload_function_def_library\u001b[0;34m(library, saved_object_graph, load_shared_name_suffix, wrapper_function)\u001b[0m\n\u001b[1;32m    476\u001b[0m   \u001b[38;5;28;01mdel\u001b[39;00m fdef\u001b[38;5;241m.\u001b[39mattr[\u001b[38;5;124m\"\u001b[39m\u001b[38;5;124m_input_shapes\u001b[39m\u001b[38;5;124m\"\u001b[39m]\n\u001b[1;32m    477\u001b[0m function_type \u001b[38;5;241m=\u001b[39m function_type_lib\u001b[38;5;241m.\u001b[39mfrom_structured_signature(\n\u001b[1;32m    478\u001b[0m     func_graph\u001b[38;5;241m.\u001b[39mstructured_input_signature,\n\u001b[1;32m    479\u001b[0m     func_graph\u001b[38;5;241m.\u001b[39mstructured_outputs,\n\u001b[1;32m    480\u001b[0m     func_graph\u001b[38;5;241m.\u001b[39mfunction_captures\u001b[38;5;241m.\u001b[39mcapture_types,\n\u001b[1;32m    481\u001b[0m )\n\u001b[0;32m--> 482\u001b[0m func \u001b[38;5;241m=\u001b[39m \u001b[43mfunction_lib\u001b[49m\u001b[38;5;241;43m.\u001b[39;49m\u001b[43mConcreteFunction\u001b[49m\u001b[38;5;241;43m.\u001b[39;49m\u001b[43mfrom_func_graph\u001b[49m\u001b[43m(\u001b[49m\n\u001b[1;32m    483\u001b[0m \u001b[43m    \u001b[49m\u001b[43mfunc_graph\u001b[49m\u001b[43m,\u001b[49m\u001b[43m \u001b[49m\u001b[43mfunction_type\u001b[49m\u001b[43m,\u001b[49m\u001b[43m \u001b[49m\u001b[43mattrs\u001b[49m\u001b[38;5;241;43m=\u001b[39;49m\u001b[43mfdef\u001b[49m\u001b[38;5;241;43m.\u001b[39;49m\u001b[43mattr\u001b[49m\u001b[43m)\u001b[49m\n\u001b[1;32m    484\u001b[0m \u001b[38;5;28;01mif\u001b[39;00m wrapper_function:\n\u001b[1;32m    485\u001b[0m   func \u001b[38;5;241m=\u001b[39m wrapper_function(func)\n",
      "File \u001b[0;32m~/anaconda3/envs/simpler_env/lib/python3.10/site-packages/tensorflow/python/eager/polymorphic_function/concrete_function.py:1076\u001b[0m, in \u001b[0;36mConcreteFunction.from_func_graph\u001b[0;34m(cls, graph, function_type, attrs, shared_func_graph)\u001b[0m\n\u001b[1;32m   1074\u001b[0m \u001b[38;5;129m@classmethod\u001b[39m\n\u001b[1;32m   1075\u001b[0m \u001b[38;5;28;01mdef\u001b[39;00m \u001b[38;5;21mfrom_func_graph\u001b[39m(\u001b[38;5;28mcls\u001b[39m, graph, function_type, attrs, shared_func_graph\u001b[38;5;241m=\u001b[39m\u001b[38;5;28;01mTrue\u001b[39;00m):\n\u001b[0;32m-> 1076\u001b[0m   atomic_fn \u001b[38;5;241m=\u001b[39m \u001b[43matomic_function\u001b[49m\u001b[38;5;241;43m.\u001b[39;49m\u001b[43mfrom_func_graph\u001b[49m\u001b[43m(\u001b[49m\n\u001b[1;32m   1077\u001b[0m \u001b[43m      \u001b[49m\u001b[43m_inference_name\u001b[49m\u001b[43m(\u001b[49m\u001b[43mgraph\u001b[49m\u001b[38;5;241;43m.\u001b[39;49m\u001b[43mname\u001b[49m\u001b[43m)\u001b[49m\u001b[43m,\u001b[49m\u001b[43m \u001b[49m\u001b[43mgraph\u001b[49m\u001b[43m,\u001b[49m\u001b[43m \u001b[49m\u001b[43mattrs\u001b[49m\u001b[43m,\u001b[49m\u001b[43m \u001b[49m\u001b[43mfunction_type\u001b[49m\n\u001b[1;32m   1078\u001b[0m \u001b[43m  \u001b[49m\u001b[43m)\u001b[49m\n\u001b[1;32m   1079\u001b[0m   \u001b[38;5;28;01mreturn\u001b[39;00m ConcreteFunction(atomic_fn, shared_func_graph\u001b[38;5;241m=\u001b[39mshared_func_graph)\n",
      "File \u001b[0;32m~/anaconda3/envs/simpler_env/lib/python3.10/site-packages/tensorflow/python/eager/polymorphic_function/atomic_function.py:564\u001b[0m, in \u001b[0;36mfrom_func_graph\u001b[0;34m(name, graph, attrs, function_type, overwrite)\u001b[0m\n\u001b[1;32m    561\u001b[0m \u001b[38;5;28;01mif\u001b[39;00m overwrite \u001b[38;5;129;01mand\u001b[39;00m bound_context\u001b[38;5;241m.\u001b[39mhas_function(name):\n\u001b[1;32m    562\u001b[0m   bound_context\u001b[38;5;241m.\u001b[39mremove_function(name)\n\u001b[0;32m--> 564\u001b[0m \u001b[43mbound_context\u001b[49m\u001b[38;5;241;43m.\u001b[39;49m\u001b[43madd_c_function\u001b[49m\u001b[43m(\u001b[49m\u001b[43mfn\u001b[49m\u001b[43m)\u001b[49m\n\u001b[1;32m    565\u001b[0m pywrap_tf_session\u001b[38;5;241m.\u001b[39mTF_DeleteFunction(fn)\n\u001b[1;32m    567\u001b[0m call_options \u001b[38;5;241m=\u001b[39m CallOptions(\n\u001b[1;32m    568\u001b[0m     collective_manager_ids_used\u001b[38;5;241m=\u001b[39m\u001b[38;5;28mgetattr\u001b[39m(\n\u001b[1;32m    569\u001b[0m         graph, \u001b[38;5;124m\"\u001b[39m\u001b[38;5;124mcollective_manager_ids_used\u001b[39m\u001b[38;5;124m\"\u001b[39m, []\n\u001b[0;32m   (...)\u001b[0m\n\u001b[1;32m    572\u001b[0m     is_stateful\u001b[38;5;241m=\u001b[39m\u001b[38;5;28many\u001b[39m(op\u001b[38;5;241m.\u001b[39m_is_stateful \u001b[38;5;28;01mfor\u001b[39;00m op \u001b[38;5;129;01min\u001b[39;00m operations),  \u001b[38;5;66;03m# pylint: disable=protected-access\u001b[39;00m\n\u001b[1;32m    573\u001b[0m )\n",
      "File \u001b[0;32m~/anaconda3/envs/simpler_env/lib/python3.10/site-packages/tensorflow/python/eager/context.py:1351\u001b[0m, in \u001b[0;36mContext.add_c_function\u001b[0;34m(self, c_func)\u001b[0m\n\u001b[1;32m   1342\u001b[0m \u001b[38;5;28;01mdef\u001b[39;00m \u001b[38;5;21madd_c_function\u001b[39m(\u001b[38;5;28mself\u001b[39m, c_func):\n\u001b[1;32m   1343\u001b[0m \u001b[38;5;250m  \u001b[39m\u001b[38;5;124;03m\"\"\"Add a C API TF_Function to the context.\u001b[39;00m\n\u001b[1;32m   1344\u001b[0m \n\u001b[1;32m   1345\u001b[0m \u001b[38;5;124;03m  Once added, the function (identified by its name) can be executed like any\u001b[39;00m\n\u001b[0;32m   (...)\u001b[0m\n\u001b[1;32m   1349\u001b[0m \u001b[38;5;124;03m    c_func: A wrapped TF_Function (returned from TF_GraphToFunction_wrapper).\u001b[39;00m\n\u001b[1;32m   1350\u001b[0m \u001b[38;5;124;03m  \"\"\"\u001b[39;00m\n\u001b[0;32m-> 1351\u001b[0m   \u001b[38;5;28;43mself\u001b[39;49m\u001b[38;5;241;43m.\u001b[39;49m\u001b[43mensure_initialized\u001b[49m\u001b[43m(\u001b[49m\u001b[43m)\u001b[49m\n\u001b[1;32m   1352\u001b[0m   pywrap_tfe\u001b[38;5;241m.\u001b[39mTFE_ContextAddFunction(\u001b[38;5;28mself\u001b[39m\u001b[38;5;241m.\u001b[39m_handle, c_func)\n",
      "File \u001b[0;32m~/anaconda3/envs/simpler_env/lib/python3.10/site-packages/tensorflow/python/eager/context.py:603\u001b[0m, in \u001b[0;36mContext.ensure_initialized\u001b[0;34m(self)\u001b[0m\n\u001b[1;32m    600\u001b[0m   pywrap_tfe\u001b[38;5;241m.\u001b[39mTFE_ContextOptionsSetRunEagerOpAsFunction(opts, \u001b[38;5;28;01mTrue\u001b[39;00m)\n\u001b[1;32m    601\u001b[0m   pywrap_tfe\u001b[38;5;241m.\u001b[39mTFE_ContextOptionsSetJitCompileRewrite(\n\u001b[1;32m    602\u001b[0m       opts, \u001b[38;5;28mself\u001b[39m\u001b[38;5;241m.\u001b[39m_jit_compile_rewrite)\n\u001b[0;32m--> 603\u001b[0m   context_handle \u001b[38;5;241m=\u001b[39m \u001b[43mpywrap_tfe\u001b[49m\u001b[38;5;241;43m.\u001b[39;49m\u001b[43mTFE_NewContext\u001b[49m\u001b[43m(\u001b[49m\u001b[43mopts\u001b[49m\u001b[43m)\u001b[49m\n\u001b[1;32m    604\u001b[0m \u001b[38;5;28;01mfinally\u001b[39;00m:\n\u001b[1;32m    605\u001b[0m   pywrap_tfe\u001b[38;5;241m.\u001b[39mTFE_DeleteContextOptions(opts)\n",
      "\u001b[0;31mInternalError\u001b[0m: cudaSetDevice() on GPU:0 failed. Status: out of memory"
     ]
    }
   ],
   "source": [
    "# @title Select your model and environment\n",
    "model_name = \"rt_1_x\" # @param [\"rt_1_x\", \"rt_1_400k\", \"rt_1_58k\", \"rt_1_1k\", \"octo-base\", \"octo-small\"]\n",
    "\n",
    "if \"rt_1\" in model_name:\n",
    "  from simpler_env.policies.rt1.rt1_model import RT1Inference\n",
    "\n",
    "  ckpt_path = get_rt_1_checkpoint(model_name)\n",
    "  model = RT1Inference(saved_model_path=ckpt_path, policy_setup=policy_setup)\n",
    "elif \"octo\" in model_name:\n",
    "  from simpler_env.policies.octo.octo_model import OctoInference\n",
    "\n",
    "  model = OctoInference(model_type=model_name, policy_setup=policy_setup, init_rng=0)\n",
    "else:\n",
    "  raise ValueError(model_name)"
   ]
  },
  {
   "cell_type": "code",
   "execution_count": 16,
   "metadata": {},
   "outputs": [
    {
     "name": "stdout",
     "output_type": "stream",
     "text": [
      "stack the green block on the yellow block\n",
      "Episode success: False\n",
      "Episode success: False\n",
      "Episode success: False\n",
      "Episode success: False\n",
      "Episode success: False\n",
      "Episode success: False\n",
      "Episode success: False\n",
      "Episode success: False\n",
      "Episode success: False\n",
      "Episode success: False\n",
      "Episode success: False\n",
      "Episode success: False\n",
      "Episode success: False\n",
      "Episode success: False\n",
      "Episode success: False\n",
      "Episode success: False\n",
      "Episode success: False\n",
      "Episode success: False\n",
      "Episode success: False\n",
      "Episode success: False\n"
     ]
    }
   ],
   "source": [
    "#@title Run inference\n",
    "\n",
    "obs, reset_info = env.reset()\n",
    "instruction = env.get_language_instruction()\n",
    "model.reset(instruction)\n",
    "print(instruction)\n",
    "\n",
    "for traj in range(20):\n",
    "    image = get_image_from_maniskill2_obs_dict(env, obs)  # np.ndarray of shape (H, W, 3), uint8\n",
    "    images = [image]\n",
    "    predicted_terminated, success, truncated = False, False, False\n",
    "    timestep = 0\n",
    "    while not (predicted_terminated or truncated):\n",
    "    # while timestep < 200:\n",
    "        # step the model; \"raw_action\" is raw model action output; \"action\" is the processed action to be sent into maniskill env\n",
    "        raw_action, action = model.step(image)\n",
    "        predicted_terminated = bool(action[\"terminate_episode\"][0] > 0)\n",
    "        obs, reward, success, truncated, info = env.step(\n",
    "            np.concatenate([action[\"world_vector\"], action[\"rot_axangle\"], action[\"gripper\"]])\n",
    "        )\n",
    "        # print(timestep, info)\n",
    "        # update image observation\n",
    "        image = get_image_from_maniskill2_obs_dict(env, obs)\n",
    "        images.append(image)\n",
    "        timestep += 1\n",
    "\n",
    "    episode_stats = info.get(\"episode_stats\", {})\n",
    "    print(f\"Episode success: {success}\")\n",
    "    if (success):\n",
    "        mediapy.show_video(images, fps=10)"
   ]
  },
  {
   "cell_type": "code",
   "execution_count": null,
   "metadata": {},
   "outputs": [],
   "source": []
  }
 ],
 "metadata": {
  "kernelspec": {
   "display_name": "simpler_env",
   "language": "python",
   "name": "python3"
  },
  "language_info": {
   "codemirror_mode": {
    "name": "ipython",
    "version": 3
   },
   "file_extension": ".py",
   "mimetype": "text/x-python",
   "name": "python",
   "nbconvert_exporter": "python",
   "pygments_lexer": "ipython3",
   "version": "3.10.16"
  },
  "orig_nbformat": 4,
  "vscode": {
   "interpreter": {
    "hash": "d8fcc74fea1656d01b38f303268eff24f051734784aca4634b385a6a709060f2"
   }
  }
 },
 "nbformat": 4,
 "nbformat_minor": 2
}
