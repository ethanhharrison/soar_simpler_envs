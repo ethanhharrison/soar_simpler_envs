{
 "cells": [
  {
   "cell_type": "code",
   "execution_count": 5,
   "metadata": {},
   "outputs": [],
   "source": [
    "import os\n",
    "import numpy as np\n",
    "import simpler_env\n",
    "from simpler_env.utils.env.observation_utils import get_image_from_maniskill2_obs_dict\n",
    "import mediapy\n",
    "\n",
    "\n",
    "RT_1_CHECKPOINTS = {\n",
    "    \"rt_1_x\": \"rt_1_x_tf_trained_for_002272480_step\",\n",
    "    \"rt_1_400k\": \"rt_1_tf_trained_for_000400120\",\n",
    "    \"rt_1_58k\": \"rt_1_tf_trained_for_000058240\",\n",
    "    \"rt_1_1k\": \"rt_1_tf_trained_for_000001120\",\n",
    "}\n",
    "\n",
    "\n",
    "def get_rt_1_checkpoint(name, ckpt_dir=\"./checkpoints\"):\n",
    "  assert name in RT_1_CHECKPOINTS, name\n",
    "  ckpt_name = RT_1_CHECKPOINTS[name]\n",
    "  ckpt_path = os.path.join(ckpt_dir, ckpt_name)\n",
    "  if not os.path.exists(ckpt_path):\n",
    "    if name == \"rt_1_x\":\n",
    "      !gsutil -m cp -r gs://gdm-robotics-open-x-embodiment/open_x_embodiment_and_rt_x_oss/{ckpt_name}.zip {ckpt_dir}\n",
    "      !unzip {ckpt_dir}/{ckpt_name}.zip -d {ckpt_dir}\n",
    "    else:\n",
    "      !gsutil -m cp -r gs://gdm-robotics-open-x-embodiment/open_x_embodiment_and_rt_x_oss/{ckpt_name} {ckpt_dir}\n",
    "  return ckpt_path"
   ]
  },
  {
   "cell_type": "code",
   "execution_count": 6,
   "metadata": {},
   "outputs": [
    {
     "name": "stderr",
     "output_type": "stream",
     "text": [
      "[2025-05-29 22:08:45.928] [svulkan2] [error] GLFW error: X11: The DISPLAY environment variable is missing\n",
      "[2025-05-29 22:08:45.928] [svulkan2] [warning] Continue without GLFW.\n"
     ]
    },
    {
     "ename": "RuntimeError",
     "evalue": "vk::Instance::enumeratePhysicalDevices: ErrorInitializationFailed",
     "output_type": "error",
     "traceback": [
      "\u001b[0;31m---------------------------------------------------------------------------\u001b[0m",
      "\u001b[0;31mRuntimeError\u001b[0m                              Traceback (most recent call last)",
      "Cell \u001b[0;32mIn[6], line 7\u001b[0m\n\u001b[1;32m      5\u001b[0m   env\u001b[38;5;241m.\u001b[39mclose()\n\u001b[1;32m      6\u001b[0m   \u001b[38;5;28;01mdel\u001b[39;00m env\n\u001b[0;32m----> 7\u001b[0m env \u001b[38;5;241m=\u001b[39m \u001b[43msimpler_env\u001b[49m\u001b[38;5;241;43m.\u001b[39;49m\u001b[43mmake\u001b[49m\u001b[43m(\u001b[49m\u001b[43mtask_name\u001b[49m\u001b[43m)\u001b[49m\n\u001b[1;32m      9\u001b[0m \u001b[38;5;66;03m# Note: we turned off the denoiser as the colab kernel will crash if it's turned on\u001b[39;00m\n\u001b[1;32m     10\u001b[0m \u001b[38;5;66;03m# To use the denoiser, please git clone our SIMPLER environments\u001b[39;00m\n\u001b[1;32m     11\u001b[0m \u001b[38;5;66;03m# and perform evaluations locally.\u001b[39;00m\n\u001b[1;32m     12\u001b[0m \u001b[38;5;66;03m# sapien.render_config.rt_use_denoiser = False\u001b[39;00m\n\u001b[1;32m     14\u001b[0m obs, reset_info \u001b[38;5;241m=\u001b[39m env\u001b[38;5;241m.\u001b[39mreset()\n",
      "File \u001b[0;32m~/soar_simpler_envs/simpler_env/__init__.py:89\u001b[0m, in \u001b[0;36mmake\u001b[0;34m(task_name, **kwargs)\u001b[0m\n\u001b[1;32m     86\u001b[0m         warnings\u001b[38;5;241m.\u001b[39mwarn(\u001b[38;5;124mf\u001b[39m\u001b[38;5;124m\"\u001b[39m\u001b[38;5;124mdefault value [\u001b[39m\u001b[38;5;132;01m{\u001b[39;00menv_kwargs[key]\u001b[38;5;132;01m}\u001b[39;00m\u001b[38;5;124m] for Key \u001b[39m\u001b[38;5;132;01m{\u001b[39;00mkey\u001b[38;5;132;01m}\u001b[39;00m\u001b[38;5;124m changes to value [\u001b[39m\u001b[38;5;132;01m{\u001b[39;00mvalue\u001b[38;5;132;01m}\u001b[39;00m\u001b[38;5;124m]\u001b[39m\u001b[38;5;124m\"\u001b[39m)\n\u001b[1;32m     87\u001b[0m     env_kwargs[key] \u001b[38;5;241m=\u001b[39m value\n\u001b[0;32m---> 89\u001b[0m env \u001b[38;5;241m=\u001b[39m \u001b[43mgym\u001b[49m\u001b[38;5;241;43m.\u001b[39;49m\u001b[43mmake\u001b[49m\u001b[43m(\u001b[49m\u001b[43menv_name\u001b[49m\u001b[43m,\u001b[49m\u001b[43m \u001b[49m\u001b[38;5;241;43m*\u001b[39;49m\u001b[38;5;241;43m*\u001b[39;49m\u001b[43menv_kwargs\u001b[49m\u001b[43m)\u001b[49m\n\u001b[1;32m     90\u001b[0m \u001b[38;5;28;01mreturn\u001b[39;00m env\n",
      "File \u001b[0;32m~/miniconda3/envs/simpler_env/lib/python3.10/site-packages/gymnasium/envs/registration.py:802\u001b[0m, in \u001b[0;36mmake\u001b[0;34m(id, max_episode_steps, autoreset, apply_api_compatibility, disable_env_checker, **kwargs)\u001b[0m\n\u001b[1;32m    799\u001b[0m     render_mode \u001b[38;5;241m=\u001b[39m \u001b[38;5;28;01mNone\u001b[39;00m\n\u001b[1;32m    801\u001b[0m \u001b[38;5;28;01mtry\u001b[39;00m:\n\u001b[0;32m--> 802\u001b[0m     env \u001b[38;5;241m=\u001b[39m \u001b[43menv_creator\u001b[49m\u001b[43m(\u001b[49m\u001b[38;5;241;43m*\u001b[39;49m\u001b[38;5;241;43m*\u001b[39;49m\u001b[43menv_spec_kwargs\u001b[49m\u001b[43m)\u001b[49m\n\u001b[1;32m    803\u001b[0m \u001b[38;5;28;01mexcept\u001b[39;00m \u001b[38;5;167;01mTypeError\u001b[39;00m \u001b[38;5;28;01mas\u001b[39;00m e:\n\u001b[1;32m    804\u001b[0m     \u001b[38;5;28;01mif\u001b[39;00m (\n\u001b[1;32m    805\u001b[0m         \u001b[38;5;28mstr\u001b[39m(e)\u001b[38;5;241m.\u001b[39mfind(\u001b[38;5;124m\"\u001b[39m\u001b[38;5;124mgot an unexpected keyword argument \u001b[39m\u001b[38;5;124m'\u001b[39m\u001b[38;5;124mrender_mode\u001b[39m\u001b[38;5;124m'\u001b[39m\u001b[38;5;124m\"\u001b[39m) \u001b[38;5;241m>\u001b[39m\u001b[38;5;241m=\u001b[39m \u001b[38;5;241m0\u001b[39m\n\u001b[1;32m    806\u001b[0m         \u001b[38;5;129;01mand\u001b[39;00m apply_human_rendering\n\u001b[1;32m    807\u001b[0m     ):\n",
      "File \u001b[0;32m~/soar_simpler_envs/ManiSkill2_real2sim/mani_skill2_real2sim/utils/registration.py:92\u001b[0m, in \u001b[0;36mmake\u001b[0;34m(env_id, as_gym, enable_segmentation, **kwargs)\u001b[0m\n\u001b[1;32m     89\u001b[0m     camera_cfgs[\u001b[38;5;124m\"\u001b[39m\u001b[38;5;124madd_segmentation\u001b[39m\u001b[38;5;124m\"\u001b[39m] \u001b[38;5;241m=\u001b[39m \u001b[38;5;28;01mTrue\u001b[39;00m\n\u001b[1;32m     90\u001b[0m     kwargs[\u001b[38;5;124m\"\u001b[39m\u001b[38;5;124mcamera_cfgs\u001b[39m\u001b[38;5;124m\"\u001b[39m] \u001b[38;5;241m=\u001b[39m camera_cfgs\n\u001b[0;32m---> 92\u001b[0m env \u001b[38;5;241m=\u001b[39m \u001b[43menv_spec\u001b[49m\u001b[38;5;241;43m.\u001b[39;49m\u001b[43mmake\u001b[49m\u001b[43m(\u001b[49m\u001b[38;5;241;43m*\u001b[39;49m\u001b[38;5;241;43m*\u001b[39;49m\u001b[43mkwargs\u001b[49m\u001b[43m)\u001b[49m\n\u001b[1;32m     94\u001b[0m \u001b[38;5;66;03m# Dispatch observation wrapper\u001b[39;00m\n\u001b[1;32m     95\u001b[0m \u001b[38;5;28;01mif\u001b[39;00m \u001b[38;5;124m\"\u001b[39m\u001b[38;5;124mrgbd\u001b[39m\u001b[38;5;124m\"\u001b[39m \u001b[38;5;129;01min\u001b[39;00m obs_mode:\n",
      "File \u001b[0;32m~/soar_simpler_envs/ManiSkill2_real2sim/mani_skill2_real2sim/utils/registration.py:34\u001b[0m, in \u001b[0;36mEnvSpec.make\u001b[0;34m(self, **kwargs)\u001b[0m\n\u001b[1;32m     32\u001b[0m _kwargs \u001b[38;5;241m=\u001b[39m \u001b[38;5;28mself\u001b[39m\u001b[38;5;241m.\u001b[39mdefault_kwargs\u001b[38;5;241m.\u001b[39mcopy()\n\u001b[1;32m     33\u001b[0m _kwargs\u001b[38;5;241m.\u001b[39mupdate(kwargs)\n\u001b[0;32m---> 34\u001b[0m \u001b[38;5;28;01mreturn\u001b[39;00m \u001b[38;5;28;43mself\u001b[39;49m\u001b[38;5;241;43m.\u001b[39;49m\u001b[43mcls\u001b[49m\u001b[43m(\u001b[49m\u001b[38;5;241;43m*\u001b[39;49m\u001b[38;5;241;43m*\u001b[39;49m\u001b[43m_kwargs\u001b[49m\u001b[43m)\u001b[49m\n",
      "File \u001b[0;32m~/soar_simpler_envs/ManiSkill2_real2sim/mani_skill2_real2sim/envs/custom_scenes/grasp_single_in_scene.py:630\u001b[0m, in \u001b[0;36mGraspSingleOpenedCokeCanInSceneEnv.__init__\u001b[0;34m(self, **kwargs)\u001b[0m\n\u001b[1;32m    628\u001b[0m kwargs\u001b[38;5;241m.\u001b[39mpop(\u001b[38;5;124m\"\u001b[39m\u001b[38;5;124mmodel_ids\u001b[39m\u001b[38;5;124m\"\u001b[39m, \u001b[38;5;28;01mNone\u001b[39;00m)\n\u001b[1;32m    629\u001b[0m kwargs[\u001b[38;5;124m\"\u001b[39m\u001b[38;5;124mmodel_ids\u001b[39m\u001b[38;5;124m\"\u001b[39m] \u001b[38;5;241m=\u001b[39m [\u001b[38;5;124m\"\u001b[39m\u001b[38;5;124mopened_coke_can\u001b[39m\u001b[38;5;124m\"\u001b[39m]\n\u001b[0;32m--> 630\u001b[0m \u001b[38;5;28;43msuper\u001b[39;49m\u001b[43m(\u001b[49m\u001b[43m)\u001b[49m\u001b[38;5;241;43m.\u001b[39;49m\u001b[38;5;21;43m__init__\u001b[39;49m\u001b[43m(\u001b[49m\u001b[38;5;241;43m*\u001b[39;49m\u001b[38;5;241;43m*\u001b[39;49m\u001b[43mkwargs\u001b[49m\u001b[43m)\u001b[49m\n",
      "File \u001b[0;32m~/soar_simpler_envs/ManiSkill2_real2sim/mani_skill2_real2sim/envs/custom_scenes/grasp_single_in_scene.py:540\u001b[0m, in \u001b[0;36mGraspSingleCustomOrientationInSceneEnv.__init__\u001b[0;34m(self, upright, laid_vertically, lr_switch, **kwargs)\u001b[0m\n\u001b[1;32m    534\u001b[0m     \u001b[38;5;28mself\u001b[39m\u001b[38;5;241m.\u001b[39morientation \u001b[38;5;241m=\u001b[39m \u001b[38;5;28;01mNone\u001b[39;00m\n\u001b[1;32m    535\u001b[0m \u001b[38;5;28mself\u001b[39m\u001b[38;5;241m.\u001b[39morientations_dict \u001b[38;5;241m=\u001b[39m {\n\u001b[1;32m    536\u001b[0m     \u001b[38;5;124m\"\u001b[39m\u001b[38;5;124mupright\u001b[39m\u001b[38;5;124m\"\u001b[39m: euler2quat(np\u001b[38;5;241m.\u001b[39mpi \u001b[38;5;241m/\u001b[39m \u001b[38;5;241m2\u001b[39m, \u001b[38;5;241m0\u001b[39m, \u001b[38;5;241m0\u001b[39m),\n\u001b[1;32m    537\u001b[0m     \u001b[38;5;124m\"\u001b[39m\u001b[38;5;124mlaid_vertically\u001b[39m\u001b[38;5;124m\"\u001b[39m: euler2quat(\u001b[38;5;241m0\u001b[39m, \u001b[38;5;241m0\u001b[39m, np\u001b[38;5;241m.\u001b[39mpi \u001b[38;5;241m/\u001b[39m \u001b[38;5;241m2\u001b[39m),\n\u001b[1;32m    538\u001b[0m     \u001b[38;5;124m\"\u001b[39m\u001b[38;5;124mlr_switch\u001b[39m\u001b[38;5;124m\"\u001b[39m: euler2quat(\u001b[38;5;241m0\u001b[39m, \u001b[38;5;241m0\u001b[39m, np\u001b[38;5;241m.\u001b[39mpi),\n\u001b[1;32m    539\u001b[0m }\n\u001b[0;32m--> 540\u001b[0m \u001b[38;5;28;43msuper\u001b[39;49m\u001b[43m(\u001b[49m\u001b[43m)\u001b[49m\u001b[38;5;241;43m.\u001b[39;49m\u001b[38;5;21;43m__init__\u001b[39;49m\u001b[43m(\u001b[49m\u001b[38;5;241;43m*\u001b[39;49m\u001b[38;5;241;43m*\u001b[39;49m\u001b[43mkwargs\u001b[49m\u001b[43m)\u001b[49m\n",
      "File \u001b[0;32m~/soar_simpler_envs/ManiSkill2_real2sim/mani_skill2_real2sim/envs/custom_scenes/grasp_single_in_scene.py:64\u001b[0m, in \u001b[0;36mGraspSingleInSceneEnv.__init__\u001b[0;34m(self, require_lifting_obj_for_success, success_from_episode_stats, distractor_model_ids, slightly_darker_lighting, slightly_brighter_lighting, darker_lighting, prepackaged_config, **kwargs)\u001b[0m\n\u001b[1;32m     60\u001b[0m \u001b[38;5;28;01mif\u001b[39;00m \u001b[38;5;28mself\u001b[39m\u001b[38;5;241m.\u001b[39mprepackaged_config:\n\u001b[1;32m     61\u001b[0m     \u001b[38;5;66;03m# use prepackaged evaluation configs (visual matching)\u001b[39;00m\n\u001b[1;32m     62\u001b[0m     kwargs\u001b[38;5;241m.\u001b[39mupdate(\u001b[38;5;28mself\u001b[39m\u001b[38;5;241m.\u001b[39m_setup_prepackaged_env_init_config())\n\u001b[0;32m---> 64\u001b[0m \u001b[38;5;28;43msuper\u001b[39;49m\u001b[43m(\u001b[49m\u001b[43m)\u001b[49m\u001b[38;5;241;43m.\u001b[39;49m\u001b[38;5;21;43m__init__\u001b[39;49m\u001b[43m(\u001b[49m\u001b[38;5;241;43m*\u001b[39;49m\u001b[38;5;241;43m*\u001b[39;49m\u001b[43mkwargs\u001b[49m\u001b[43m)\u001b[49m\n",
      "File \u001b[0;32m~/soar_simpler_envs/ManiSkill2_real2sim/mani_skill2_real2sim/envs/custom_scenes/base_env.py:134\u001b[0m, in \u001b[0;36mCustomSceneEnv.__init__\u001b[0;34m(self, robot, rgb_overlay_path, rgb_overlay_cameras, rgb_overlay_mode, rgb_always_overlay_objects, disable_bad_material, asset_root, scene_root, scene_name, scene_offset, scene_pose, scene_table_height, model_json, model_ids, model_db_override, urdf_version, **kwargs)\u001b[0m\n\u001b[1;32m    131\u001b[0m \u001b[38;5;28mself\u001b[39m\u001b[38;5;241m.\u001b[39murdf_version \u001b[38;5;241m=\u001b[39m urdf_version\n\u001b[1;32m    132\u001b[0m \u001b[38;5;28mself\u001b[39m\u001b[38;5;241m.\u001b[39mdisable_bad_material \u001b[38;5;241m=\u001b[39m disable_bad_material\n\u001b[0;32m--> 134\u001b[0m \u001b[38;5;28;43msuper\u001b[39;49m\u001b[43m(\u001b[49m\u001b[43m)\u001b[49m\u001b[38;5;241;43m.\u001b[39;49m\u001b[38;5;21;43m__init__\u001b[39;49m\u001b[43m(\u001b[49m\u001b[38;5;241;43m*\u001b[39;49m\u001b[38;5;241;43m*\u001b[39;49m\u001b[43mkwargs\u001b[49m\u001b[43m)\u001b[49m\n",
      "File \u001b[0;32m~/soar_simpler_envs/ManiSkill2_real2sim/mani_skill2_real2sim/envs/sapien_env.py:107\u001b[0m, in \u001b[0;36mBaseEnv.__init__\u001b[0;34m(self, obs_mode, reward_mode, control_mode, render_mode, sim_freq, control_freq, renderer, renderer_kwargs, shader_dir, render_config, enable_shadow, camera_cfgs, render_camera_cfgs, bg_name)\u001b[0m\n\u001b[1;32m    105\u001b[0m     renderer_kwargs \u001b[38;5;241m=\u001b[39m {}\n\u001b[1;32m    106\u001b[0m \u001b[38;5;28;01mif\u001b[39;00m \u001b[38;5;28mself\u001b[39m\u001b[38;5;241m.\u001b[39m_renderer_type \u001b[38;5;241m==\u001b[39m \u001b[38;5;124m\"\u001b[39m\u001b[38;5;124msapien\u001b[39m\u001b[38;5;124m\"\u001b[39m:\n\u001b[0;32m--> 107\u001b[0m     \u001b[38;5;28mself\u001b[39m\u001b[38;5;241m.\u001b[39m_renderer \u001b[38;5;241m=\u001b[39m \u001b[43msapien\u001b[49m\u001b[38;5;241;43m.\u001b[39;49m\u001b[43mSapienRenderer\u001b[49m\u001b[43m(\u001b[49m\u001b[38;5;241;43m*\u001b[39;49m\u001b[38;5;241;43m*\u001b[39;49m\u001b[43mrenderer_kwargs\u001b[49m\u001b[43m)\u001b[49m\n\u001b[1;32m    108\u001b[0m     \u001b[38;5;28;01mif\u001b[39;00m shader_dir \u001b[38;5;241m==\u001b[39m \u001b[38;5;124m\"\u001b[39m\u001b[38;5;124mibl\u001b[39m\u001b[38;5;124m\"\u001b[39m:\n\u001b[1;32m    109\u001b[0m         _render_config \u001b[38;5;241m=\u001b[39m \u001b[38;5;28mdict\u001b[39m(camera_shader_dir\u001b[38;5;241m=\u001b[39m\u001b[38;5;124m\"\u001b[39m\u001b[38;5;124mibl\u001b[39m\u001b[38;5;124m\"\u001b[39m, viewer_shader_dir\u001b[38;5;241m=\u001b[39m\u001b[38;5;124m\"\u001b[39m\u001b[38;5;124mibl\u001b[39m\u001b[38;5;124m\"\u001b[39m)\n",
      "\u001b[0;31mRuntimeError\u001b[0m: vk::Instance::enumeratePhysicalDevices: ErrorInitializationFailed"
     ]
    }
   ],
   "source": [
    "task_name = \"google_robot_pick_coke_can\"  # @param [\"google_robot_pick_coke_can\", \"google_robot_move_near\", \"google_robot_open_drawer\", \"google_robot_close_drawer\", \"widowx_spoon_on_towel\", \"widowx_carrot_on_plate\", \"widowx_stack_cube\", \"widowx_put_eggplant_in_basket\"]\n",
    "\n",
    "if 'env' in locals():\n",
    "  print(\"Closing existing env\")\n",
    "  env.close()\n",
    "  del env\n",
    "env = simpler_env.make(task_name)\n",
    "\n",
    "# Note: we turned off the denoiser as the colab kernel will crash if it's turned on\n",
    "# To use the denoiser, please git clone our SIMPLER environments\n",
    "# and perform evaluations locally.\n",
    "# sapien.render_config.rt_use_denoiser = False\n",
    "\n",
    "obs, reset_info = env.reset()\n",
    "instruction = env.get_language_instruction()\n",
    "print(\"Reset info\", reset_info)\n",
    "print(\"Instruction\", instruction)\n",
    "\n",
    "if \"google\" in task_name:\n",
    "  policy_setup = \"google_robot\"\n",
    "else:\n",
    "  policy_setup = \"widowx_bridge\""
   ]
  },
  {
   "cell_type": "code",
   "execution_count": 3,
   "metadata": {},
   "outputs": [
    {
     "ename": "ModuleNotFoundError",
     "evalue": "No module named 'flax'",
     "output_type": "error",
     "traceback": [
      "\u001b[0;31m---------------------------------------------------------------------------\u001b[0m",
      "\u001b[0;31mModuleNotFoundError\u001b[0m                       Traceback (most recent call last)",
      "Cell \u001b[0;32mIn[3], line 10\u001b[0m\n\u001b[1;32m      8\u001b[0m   model \u001b[38;5;241m=\u001b[39m RT1Inference(saved_model_path\u001b[38;5;241m=\u001b[39mckpt_path, policy_setup\u001b[38;5;241m=\u001b[39mpolicy_setup)\n\u001b[1;32m      9\u001b[0m \u001b[38;5;28;01melif\u001b[39;00m \u001b[38;5;124m\"\u001b[39m\u001b[38;5;124mocto\u001b[39m\u001b[38;5;124m\"\u001b[39m \u001b[38;5;129;01min\u001b[39;00m model_name:\n\u001b[0;32m---> 10\u001b[0m   \u001b[38;5;28;01mfrom\u001b[39;00m\u001b[38;5;250m \u001b[39m\u001b[38;5;21;01msimpler_env\u001b[39;00m\u001b[38;5;21;01m.\u001b[39;00m\u001b[38;5;21;01mpolicies\u001b[39;00m\u001b[38;5;21;01m.\u001b[39;00m\u001b[38;5;21;01mocto\u001b[39;00m\u001b[38;5;21;01m.\u001b[39;00m\u001b[38;5;21;01mocto_model\u001b[39;00m\u001b[38;5;250m \u001b[39m\u001b[38;5;28;01mimport\u001b[39;00m OctoInference\n\u001b[1;32m     11\u001b[0m   model \u001b[38;5;241m=\u001b[39m OctoInference(model_type\u001b[38;5;241m=\u001b[39mmodel_name, policy_setup\u001b[38;5;241m=\u001b[39mpolicy_setup, init_rng\u001b[38;5;241m=\u001b[39m\u001b[38;5;241m0\u001b[39m)\n\u001b[1;32m     12\u001b[0m \u001b[38;5;28;01melif\u001b[39;00m \u001b[38;5;124m\"\u001b[39m\u001b[38;5;124mopenvla\u001b[39m\u001b[38;5;124m\"\u001b[39m \u001b[38;5;129;01min\u001b[39;00m model_name:\n",
      "File \u001b[0;32m~/soar_simpler_envs/simpler_env/policies/octo/octo_model.py:8\u001b[0m\n\u001b[1;32m      6\u001b[0m \u001b[38;5;28;01mimport\u001b[39;00m\u001b[38;5;250m \u001b[39m\u001b[38;5;21;01mmatplotlib\u001b[39;00m\u001b[38;5;21;01m.\u001b[39;00m\u001b[38;5;21;01mpyplot\u001b[39;00m\u001b[38;5;250m \u001b[39m\u001b[38;5;28;01mas\u001b[39;00m\u001b[38;5;250m \u001b[39m\u001b[38;5;21;01mplt\u001b[39;00m\n\u001b[1;32m      7\u001b[0m \u001b[38;5;28;01mimport\u001b[39;00m\u001b[38;5;250m \u001b[39m\u001b[38;5;21;01mnumpy\u001b[39;00m\u001b[38;5;250m \u001b[39m\u001b[38;5;28;01mas\u001b[39;00m\u001b[38;5;250m \u001b[39m\u001b[38;5;21;01mnp\u001b[39;00m\n\u001b[0;32m----> 8\u001b[0m \u001b[38;5;28;01mfrom\u001b[39;00m\u001b[38;5;250m \u001b[39m\u001b[38;5;21;01mocto\u001b[39;00m\u001b[38;5;21;01m.\u001b[39;00m\u001b[38;5;21;01mmodel\u001b[39;00m\u001b[38;5;21;01m.\u001b[39;00m\u001b[38;5;21;01mocto_model\u001b[39;00m\u001b[38;5;250m \u001b[39m\u001b[38;5;28;01mimport\u001b[39;00m OctoModel\n\u001b[1;32m      9\u001b[0m \u001b[38;5;28;01mimport\u001b[39;00m\u001b[38;5;250m \u001b[39m\u001b[38;5;21;01mtensorflow\u001b[39;00m\u001b[38;5;250m \u001b[39m\u001b[38;5;28;01mas\u001b[39;00m\u001b[38;5;250m \u001b[39m\u001b[38;5;21;01mtf\u001b[39;00m\n\u001b[1;32m     10\u001b[0m \u001b[38;5;28;01mfrom\u001b[39;00m\u001b[38;5;250m \u001b[39m\u001b[38;5;21;01mtransformers\u001b[39;00m\u001b[38;5;250m \u001b[39m\u001b[38;5;28;01mimport\u001b[39;00m AutoTokenizer\n",
      "File \u001b[0;32m~/soar_simpler_envs/octo/octo/model/octo_model.py:6\u001b[0m\n\u001b[1;32m      3\u001b[0m \u001b[38;5;28;01mimport\u001b[39;00m\u001b[38;5;250m \u001b[39m\u001b[38;5;21;01mlogging\u001b[39;00m\n\u001b[1;32m      4\u001b[0m \u001b[38;5;28;01mfrom\u001b[39;00m\u001b[38;5;250m \u001b[39m\u001b[38;5;21;01mtyping\u001b[39;00m\u001b[38;5;250m \u001b[39m\u001b[38;5;28;01mimport\u001b[39;00m Any, Optional, Tuple\n\u001b[0;32m----> 6\u001b[0m \u001b[38;5;28;01mimport\u001b[39;00m\u001b[38;5;250m \u001b[39m\u001b[38;5;21;01mflax\u001b[39;00m\n\u001b[1;32m      7\u001b[0m \u001b[38;5;28;01mfrom\u001b[39;00m\u001b[38;5;250m \u001b[39m\u001b[38;5;21;01mflax\u001b[39;00m\u001b[38;5;250m \u001b[39m\u001b[38;5;28;01mimport\u001b[39;00m struct\n\u001b[1;32m      8\u001b[0m \u001b[38;5;28;01mfrom\u001b[39;00m\u001b[38;5;250m \u001b[39m\u001b[38;5;21;01mflax\u001b[39;00m\u001b[38;5;21;01m.\u001b[39;00m\u001b[38;5;21;01mtraining\u001b[39;00m\u001b[38;5;250m \u001b[39m\u001b[38;5;28;01mimport\u001b[39;00m orbax_utils\n",
      "\u001b[0;31mModuleNotFoundError\u001b[0m: No module named 'flax'"
     ]
    }
   ],
   "source": [
    "# @title Select your model and environment\n",
    "model_name = \"octo-small\" # @param [\"rt_1_x\", \"rt_1_400k\", \"rt_1_58k\", \"rt_1_1k\", \"octo-base\", \"octo-small\"]\n",
    "\n",
    "if \"rt_1\" in model_name:\n",
    "  from simpler_env.policies.rt1.rt1_model import RT1Inference\n",
    "\n",
    "  ckpt_path = get_rt_1_checkpoint(model_name)\n",
    "  model = RT1Inference(saved_model_path=ckpt_path, policy_setup=policy_setup)\n",
    "elif \"octo\" in model_name:\n",
    "  from simpler_env.policies.octo.octo_model import OctoInference\n",
    "  model = OctoInference(model_type=model_name, policy_setup=policy_setup, init_rng=0)\n",
    "elif \"openvla\" in model_name:\n",
    "  from simpler_env.policies.openvla.openvla_model import OpenVLAInference\n",
    "  model = OpenVLAInference()\n",
    "else:\n",
    "  raise ValueError(model_name)"
   ]
  },
  {
   "cell_type": "code",
   "execution_count": 16,
   "metadata": {},
   "outputs": [
    {
     "name": "stdout",
     "output_type": "stream",
     "text": [
      "stack the green block on the yellow block\n",
      "Episode success: False\n",
      "Episode success: False\n",
      "Episode success: False\n",
      "Episode success: False\n",
      "Episode success: False\n",
      "Episode success: False\n",
      "Episode success: False\n",
      "Episode success: False\n",
      "Episode success: False\n",
      "Episode success: False\n",
      "Episode success: False\n",
      "Episode success: False\n",
      "Episode success: False\n",
      "Episode success: False\n",
      "Episode success: False\n",
      "Episode success: False\n",
      "Episode success: False\n",
      "Episode success: False\n",
      "Episode success: False\n",
      "Episode success: False\n"
     ]
    }
   ],
   "source": [
    "#@title Run inference\n",
    "\n",
    "obs, reset_info = env.reset()\n",
    "instruction = env.get_language_instruction()\n",
    "model.reset(instruction)\n",
    "print(instruction)\n",
    "\n",
    "for traj in range(20):\n",
    "    image = get_image_from_maniskill2_obs_dict(env, obs)  # np.ndarray of shape (H, W, 3), uint8\n",
    "    images = [image]\n",
    "    predicted_terminated, success, truncated = False, False, False\n",
    "    timestep = 0\n",
    "    while not (predicted_terminated or truncated):\n",
    "    # while timestep < 200:\n",
    "        # step the model; \"raw_action\" is raw model action output; \"action\" is the processed action to be sent into maniskill env\n",
    "        raw_action, action = model.step(image)\n",
    "        predicted_terminated = bool(action[\"terminate_episode\"][0] > 0)\n",
    "        obs, reward, success, truncated, info = env.step(\n",
    "            np.concatenate([action[\"world_vector\"], action[\"rot_axangle\"], action[\"gripper\"]])\n",
    "        )\n",
    "        # print(timestep, info)\n",
    "        # update image observation\n",
    "        image = get_image_from_maniskill2_obs_dict(env, obs)\n",
    "        images.append(image)\n",
    "        timestep += 1\n",
    "\n",
    "    episode_stats = info.get(\"episode_stats\", {})\n",
    "    print(f\"Episode success: {success}\")\n",
    "    if (success):\n",
    "        mediapy.show_video(images, fps=10)"
   ]
  },
  {
   "cell_type": "code",
   "execution_count": null,
   "metadata": {},
   "outputs": [],
   "source": []
  }
 ],
 "metadata": {
  "kernelspec": {
   "display_name": "simpler_env",
   "language": "python",
   "name": "python3"
  },
  "language_info": {
   "codemirror_mode": {
    "name": "ipython",
    "version": 3
   },
   "file_extension": ".py",
   "mimetype": "text/x-python",
   "name": "python",
   "nbconvert_exporter": "python",
   "pygments_lexer": "ipython3",
   "version": "3.10.16"
  },
  "orig_nbformat": 4,
  "vscode": {
   "interpreter": {
    "hash": "d8fcc74fea1656d01b38f303268eff24f051734784aca4634b385a6a709060f2"
   }
  }
 },
 "nbformat": 4,
 "nbformat_minor": 2
}
